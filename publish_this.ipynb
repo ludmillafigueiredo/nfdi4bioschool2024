{
 "cells": [
  {
   "cell_type": "code",
   "execution_count": 10,
   "id": "1edeaf06-d3ae-46e5-8bc4-584929fce1fd",
   "metadata": {},
   "outputs": [],
   "source": [
    "library(readr)"
   ]
  },
  {
   "cell_type": "markdown",
   "id": "63b3496d-a303-4e98-a2bc-3d4be8c02a6d",
   "metadata": {},
   "source": [
    "Load data from TRY and GBIF"
   ]
  },
  {
   "cell_type": "code",
   "execution_count": 11,
   "id": "21fef302-cd4c-4722-9e07-d4b51046fdbf",
   "metadata": {
    "editable": true,
    "slideshow": {
     "slide_type": ""
    },
    "tags": []
   },
   "outputs": [
    {
     "name": "stderr",
     "output_type": "stream",
     "text": [
      "\u001b[1m\u001b[22mNew names:\n",
      "\u001b[36m•\u001b[39m `` -> `...1`\n",
      "\u001b[1mRows: \u001b[22m\u001b[34m52323\u001b[39m \u001b[1mColumns: \u001b[22m\u001b[34m5\u001b[39m\n",
      "\u001b[36m──\u001b[39m \u001b[1mColumn specification\u001b[22m \u001b[36m────────────────────────────────────────────────────────\u001b[39m\n",
      "\u001b[1mDelimiter:\u001b[22m \",\"\n",
      "\u001b[31mchr\u001b[39m (3): SpeciesName, TraitName, UnitName\n",
      "\u001b[32mdbl\u001b[39m (2): ...1, StdValue\n",
      "\n",
      "\u001b[36mℹ\u001b[39m Use `spec()` to retrieve the full column specification for this data.\n",
      "\u001b[36mℹ\u001b[39m Specify the column types or set `show_col_types = FALSE` to quiet this message.\n",
      "\u001b[1mRows: \u001b[22m\u001b[34m255873\u001b[39m \u001b[1mColumns: \u001b[22m\u001b[34m6\u001b[39m\n",
      "\u001b[36m──\u001b[39m \u001b[1mColumn specification\u001b[22m \u001b[36m────────────────────────────────────────────────────────\u001b[39m\n",
      "\u001b[1mDelimiter:\u001b[22m \",\"\n",
      "\u001b[31mchr\u001b[39m (4): class, scientificName, countryCode, species\n",
      "\u001b[32mdbl\u001b[39m (2): x, y\n",
      "\n",
      "\u001b[36mℹ\u001b[39m Use `spec()` to retrieve the full column specification for this data.\n",
      "\u001b[36mℹ\u001b[39m Specify the column types or set `show_col_types = FALSE` to quiet this message.\n"
     ]
    }
   ],
   "source": [
    "trydb <- read_csv(\"https://raw.githubusercontent.com/NFDI4Biodiversity/SeasonalSchool2024/refs/heads/main/day4/practical_session4/data/try_reduced.csv\")\n",
    "gbif <- read_csv(\"https://raw.githubusercontent.com/NFDI4Biodiversity/SeasonalSchool2024/refs/heads/main/day4/practical_session4/data/gbif1.csv\")"
   ]
  }
 ],
 "metadata": {
  "kernelspec": {
   "display_name": "R",
   "language": "R",
   "name": "ir"
  },
  "language_info": {
   "codemirror_mode": "r",
   "file_extension": ".r",
   "mimetype": "text/x-r-source",
   "name": "R",
   "pygments_lexer": "r",
   "version": "4.1.2"
  }
 },
 "nbformat": 4,
 "nbformat_minor": 5
}
